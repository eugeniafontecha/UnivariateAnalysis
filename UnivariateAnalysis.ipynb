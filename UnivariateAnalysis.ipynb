{
  "cells": [
    {
      "cell_type": "code",
      "execution_count": null,
      "metadata": {
        "id": "GooV0nYnI8ex"
      },
      "outputs": [],
      "source": [
        "# August 2020\n",
        "\n",
        "# @Authors: eugeniafontecha, Federicodip05\n"
      ]
    },
    {
      "cell_type": "markdown",
      "metadata": {
        "id": "oye1n496I8ey"
      },
      "source": [
        "## Ejercicio de introducción a panda y análisis univariado\n",
        "\n",
        "**Base de datos Marambio**\n",
        "\n",
        "En el archivo marambio_2007.dat están guardadas las temperaturas pronosticadas por 5 modelos climáticos para las 12UTM en la base antártica de Marambio en un período de 2007."
      ]
    },
    {
      "cell_type": "code",
      "execution_count": null,
      "metadata": {
        "id": "QjNBizOvI8ey"
      },
      "outputs": [],
      "source": [
        "import pandas as pd\n",
        "import numpy as np\n",
        "import matplotlib.pyplot as plt\n",
        "import plotly.graph_objects as go"
      ]
    },
    {
      "cell_type": "code",
      "execution_count": null,
      "metadata": {
        "id": "CCFSIKG0I8ey"
      },
      "outputs": [],
      "source": [
        "filename = 'marambio_2007.dat'"
      ]
    },
    {
      "cell_type": "code",
      "execution_count": null,
      "metadata": {
        "id": "xp0aaN4EI8ez"
      },
      "outputs": [],
      "source": [
        "data = pd.read_csv(filename,\n",
        "            header=0, sep='\\s+', engine='python')"
      ]
    },
    {
      "cell_type": "code",
      "execution_count": null,
      "metadata": {
        "id": "cgEqbFSKI8ez",
        "outputId": "f929cb2f-9431-465d-ce49-78020fba8fe5"
      },
      "outputs": [
        {
          "data": {
            "text/html": [
              "<div>\n",
              "<style scoped>\n",
              "    .dataframe tbody tr th:only-of-type {\n",
              "        vertical-align: middle;\n",
              "    }\n",
              "\n",
              "    .dataframe tbody tr th {\n",
              "        vertical-align: top;\n",
              "    }\n",
              "\n",
              "    .dataframe thead th {\n",
              "        text-align: right;\n",
              "    }\n",
              "</style>\n",
              "<table border=\"1\" class=\"dataframe\">\n",
              "  <thead>\n",
              "    <tr style=\"text-align: right;\">\n",
              "      <th></th>\n",
              "      <th>\"ukmo\"</th>\n",
              "      <th>\"cmam\"</th>\n",
              "      <th>\"gembach\"</th>\n",
              "      <th>\"ncep\"</th>\n",
              "      <th>\"ecmwf\"</th>\n",
              "    </tr>\n",
              "  </thead>\n",
              "  <tbody>\n",
              "    <tr>\n",
              "      <th>\"1001\"</th>\n",
              "      <td>191.8850</td>\n",
              "      <td>191.4259</td>\n",
              "      <td>191.5605</td>\n",
              "      <td>190.3499</td>\n",
              "      <td>192.1477</td>\n",
              "    </tr>\n",
              "    <tr>\n",
              "      <th>\"1002\"</th>\n",
              "      <td>190.5867</td>\n",
              "      <td>189.4517</td>\n",
              "      <td>190.3790</td>\n",
              "      <td>188.6695</td>\n",
              "      <td>188.3967</td>\n",
              "    </tr>\n",
              "    <tr>\n",
              "      <th>\"1003\"</th>\n",
              "      <td>190.4485</td>\n",
              "      <td>190.6399</td>\n",
              "      <td>191.0684</td>\n",
              "      <td>190.4134</td>\n",
              "      <td>189.6597</td>\n",
              "    </tr>\n",
              "    <tr>\n",
              "      <th>\"1004\"</th>\n",
              "      <td>192.5483</td>\n",
              "      <td>191.6376</td>\n",
              "      <td>192.6831</td>\n",
              "      <td>191.4446</td>\n",
              "      <td>190.7733</td>\n",
              "    </tr>\n",
              "    <tr>\n",
              "      <th>\"1005\"</th>\n",
              "      <td>193.0735</td>\n",
              "      <td>193.6450</td>\n",
              "      <td>193.9516</td>\n",
              "      <td>192.8147</td>\n",
              "      <td>192.4866</td>\n",
              "    </tr>\n",
              "  </tbody>\n",
              "</table>\n",
              "</div>"
            ],
            "text/plain": [
              "          \"ukmo\"    \"cmam\"  \"gembach\"    \"ncep\"   \"ecmwf\"\n",
              "\"1001\"  191.8850  191.4259   191.5605  190.3499  192.1477\n",
              "\"1002\"  190.5867  189.4517   190.3790  188.6695  188.3967\n",
              "\"1003\"  190.4485  190.6399   191.0684  190.4134  189.6597\n",
              "\"1004\"  192.5483  191.6376   192.6831  191.4446  190.7733\n",
              "\"1005\"  193.0735  193.6450   193.9516  192.8147  192.4866"
            ]
          },
          "execution_count": 6,
          "metadata": {},
          "output_type": "execute_result"
        }
      ],
      "source": [
        "data.head()"
      ]
    },
    {
      "cell_type": "code",
      "execution_count": null,
      "metadata": {
        "id": "_lrhlebiI8ez",
        "outputId": "a5ee87e5-f0b1-4489-a313-8cd640b7f38b"
      },
      "outputs": [
        {
          "name": "stdout",
          "output_type": "stream",
          "text": [
            "<class 'pandas.core.frame.DataFrame'>\n",
            "Index: 92 entries, \"1001\" to \"1231\"\n",
            "Data columns (total 5 columns):\n",
            " #   Column     Non-Null Count  Dtype  \n",
            "---  ------     --------------  -----  \n",
            " 0   \"ukmo\"     89 non-null     float64\n",
            " 1   \"cmam\"     92 non-null     float64\n",
            " 2   \"gembach\"  92 non-null     float64\n",
            " 3   \"ncep\"     85 non-null     float64\n",
            " 4   \"ecmwf\"    92 non-null     float64\n",
            "dtypes: float64(5)\n",
            "memory usage: 4.3+ KB\n",
            "None\n"
          ]
        }
      ],
      "source": [
        "print(data.info())"
      ]
    },
    {
      "cell_type": "code",
      "execution_count": null,
      "metadata": {
        "id": "RiPi8d7uI8ez",
        "outputId": "c555b89c-dff8-4f17-e7dd-dffe8a0bb8b4"
      },
      "outputs": [
        {
          "name": "stdout",
          "output_type": "stream",
          "text": [
            "\"ukmo\"       3\n",
            "\"cmam\"       0\n",
            "\"gembach\"    0\n",
            "\"ncep\"       7\n",
            "\"ecmwf\"      0\n",
            "dtype: int64\n"
          ]
        }
      ],
      "source": [
        "print(data.isnull().sum())"
      ]
    },
    {
      "cell_type": "code",
      "execution_count": null,
      "metadata": {
        "scrolled": false,
        "id": "6Yxol9HMI8ez"
      },
      "outputs": [],
      "source": [
        "data = data.fillna(data.mean().to_dict(),axis=0) #completamos datos faltantes con la media"
      ]
    },
    {
      "cell_type": "markdown",
      "metadata": {
        "id": "fwJrYjMxI8e0"
      },
      "source": [
        "* Muestre el nombre de las variables"
      ]
    },
    {
      "cell_type": "code",
      "execution_count": null,
      "metadata": {
        "id": "3AkIduaoI8e0",
        "outputId": "b7a8cb95-a422-484e-afe6-76cfe7b2d838"
      },
      "outputs": [
        {
          "name": "stdout",
          "output_type": "stream",
          "text": [
            "\"ukmo\"\n",
            "\"cmam\"\n",
            "\"gembach\"\n",
            "\"ncep\"\n",
            "\"ecmwf\"\n"
          ]
        }
      ],
      "source": [
        "for name in data.columns:\n",
        "    print(name)"
      ]
    },
    {
      "cell_type": "markdown",
      "metadata": {
        "id": "msOVavKBI8e0"
      },
      "source": [
        "* ¿Para qué período se registraron los pronósticos?"
      ]
    },
    {
      "cell_type": "code",
      "execution_count": null,
      "metadata": {
        "scrolled": true,
        "id": "dZT9UZ1-I8e0",
        "outputId": "a21ac192-1e6a-4c14-caf0-b53b5b8f6e56"
      },
      "outputs": [
        {
          "name": "stdout",
          "output_type": "stream",
          "text": [
            "\"1001\"\n",
            "\"1231\"\n"
          ]
        }
      ],
      "source": [
        "print(data.index[0])\n",
        "print(data.index[-1])"
      ]
    },
    {
      "cell_type": "markdown",
      "metadata": {
        "id": "jISQN_ITI8e0"
      },
      "source": [
        "* Calcule la temperatura promedio de ese período para cada uno de los modelos climáticos involucrados."
      ]
    },
    {
      "cell_type": "code",
      "execution_count": null,
      "metadata": {
        "id": "7JDZIjPeI8e0",
        "outputId": "0087cdb6-46c3-4d07-8a86-5420d61bf27c"
      },
      "outputs": [
        {
          "data": {
            "text/plain": [
              "\"ukmo\"       220.867209\n",
              "\"cmam\"       220.531189\n",
              "\"gembach\"    221.452630\n",
              "\"ncep\"       220.192254\n",
              "\"ecmwf\"      220.379674\n",
              "dtype: float64"
            ]
          },
          "execution_count": 16,
          "metadata": {},
          "output_type": "execute_result"
        }
      ],
      "source": [
        "data.mean(axis=0)"
      ]
    },
    {
      "cell_type": "markdown",
      "metadata": {
        "id": "exiFEGvqI8e0"
      },
      "source": [
        "* Calcular temperaturas máximas y mínimas para el modelos CMAM."
      ]
    },
    {
      "cell_type": "code",
      "execution_count": null,
      "metadata": {
        "id": "eFVmZpO7I8e0",
        "outputId": "e521ee7e-f429-4007-f287-f5440a9fee5e"
      },
      "outputs": [
        {
          "data": {
            "text/plain": [
              "238.2716"
            ]
          },
          "execution_count": 17,
          "metadata": {},
          "output_type": "execute_result"
        }
      ],
      "source": [
        "data.loc[:,'\"cmam\"'].max()"
      ]
    },
    {
      "cell_type": "code",
      "execution_count": null,
      "metadata": {
        "id": "x_QR__GqI8e1",
        "outputId": "f9839840-7fc0-4c26-c475-7de8a7f42eb6"
      },
      "outputs": [
        {
          "data": {
            "text/plain": [
              "189.4517"
            ]
          },
          "execution_count": 18,
          "metadata": {},
          "output_type": "execute_result"
        }
      ],
      "source": [
        "data.loc[:,'\"cmam\"'].min()"
      ]
    },
    {
      "cell_type": "markdown",
      "metadata": {
        "id": "8vCdtfxeIeRE"
      },
      "source": [
        "* Calcular medianas de las variables CMAM y UKMO."
      ]
    },
    {
      "cell_type": "code",
      "execution_count": null,
      "metadata": {
        "id": "LCZZtKzBIeRF",
        "outputId": "7adbf27d-b548-4f69-831f-6a8145faae1d"
      },
      "outputs": [
        {
          "data": {
            "text/plain": [
              "\"cmam\"    226.30450\n",
              "\"ukmo\"    226.61465\n",
              "dtype: float64"
            ]
          },
          "execution_count": 19,
          "metadata": {},
          "output_type": "execute_result"
        }
      ],
      "source": [
        "data.loc[:,['\"cmam\"','\"ukmo\"']].median(axis=0)"
      ]
    },
    {
      "cell_type": "markdown",
      "metadata": {
        "id": "H_dVn4PeIeRF"
      },
      "source": [
        "* Realizar un estudio univariado para cada modelo."
      ]
    },
    {
      "cell_type": "code",
      "execution_count": null,
      "metadata": {
        "scrolled": false,
        "id": "h9qFvJy2IeRF",
        "outputId": "f3605433-91bc-429a-ab92-2772099ee5b8"
      },
      "outputs": [
        {
          "name": "stdout",
          "output_type": "stream",
          "text": [
            "Análisis univariado:\n"
          ]
        },
        {
          "data": {
            "image/png": "[encoded data removed]",
            "text/plain": [
              "<Figure size 432x288 with 1 Axes>"
            ]
          },
          "metadata": {
            "needs_background": "light"
          },
          "output_type": "display_data"
        },
        {
          "data": {
            "image/png": "[encoded data removed]",
            "text/plain": [
              "<Figure size 432x288 with 1 Axes>"
            ]
          },
          "metadata": {
            "needs_background": "light"
          },
          "output_type": "display_data"
        },
        {
          "data": {
            "image/png": "[encoded data removed]",
            "text/plain": [
              "<Figure size 432x288 with 1 Axes>"
            ]
          },
          "metadata": {
            "needs_background": "light"
          },
          "output_type": "display_data"
        },
        {
          "data": {
            "image/png": "[encoded data removed]",
            "text/plain": [
              "<Figure size 432x288 with 1 Axes>"
            ]
          },
          "metadata": {
            "needs_background": "light"
          },
          "output_type": "display_data"
        },
        {
          "data": {
            "image/png": "[encoded data removed]",
            "text/plain": [
              "<Figure size 432x288 with 1 Axes>"
            ]
          },
          "metadata": {
            "needs_background": "light"
          },
          "output_type": "display_data"
        },
        {
          "data": {
            "image/png": "[encoded data removed]",
            "text/plain": [
              "<Figure size 432x288 with 1 Axes>"
            ]
          },
          "metadata": {
            "needs_background": "light"
          },
          "output_type": "display_data"
        },
        {
          "data": {
            "image/png": "[encoded data removed]",
            "text/plain": [
              "<Figure size 432x288 with 1 Axes>"
            ]
          },
          "metadata": {
            "needs_background": "light"
          },
          "output_type": "display_data"
        },
        {
          "data": {
            "image/png": "[encoded data removed]",
            "text/plain": [
              "<Figure size 432x288 with 1 Axes>"
            ]
          },
          "metadata": {
            "needs_background": "light"
          },
          "output_type": "display_data"
        },
        {
          "data": {
            "image/png": "[encoded data removed]",
            "text/plain": [
              "<Figure size 432x288 with 1 Axes>"
            ]
          },
          "metadata": {
            "needs_background": "light"
          },
          "output_type": "display_data"
        },
        {
          "data": {
            "image/png": "[encoded data removed]",
            "text/plain": [
              "<Figure size 432x288 with 1 Axes>"
            ]
          },
          "metadata": {
            "needs_background": "light"
          },
          "output_type": "display_data"
        }
      ],
      "source": [
        "print(\"Análisis univariado:\")\n",
        "\n",
        "for col in data.columns:\n",
        "    \n",
        "    temp = data.loc[:,col]    \n",
        "       \n",
        "    fig = plt.figure()\n",
        "    axes = fig.add_subplot(1, 1, 1)\n",
        "    axes.set_title('Histograma Modelo: '+col)\n",
        "    axes.set_xlabel('Temperatura')\n",
        "    axes.set_ylabel('Frecuencia')\n",
        "    temp.hist(bins = 8, ax = axes)\n",
        "    \n",
        "    fig2= plt.figure()\n",
        "    axes= fig2.add_subplot(1, 1, 1)\n",
        "    axes.set_title('Boxplot Modelo: '+col)\n",
        "    \n",
        "    temp.to_frame().boxplot(ax= axes)"
      ]
    },
    {
      "cell_type": "markdown",
      "metadata": {
        "id": "vv3JOUN8IeRF"
      },
      "source": [
        "* Dividir aleatoriamente el conjunto de registros en dos, dando como dato de entrada el porcentaje de elementos."
      ]
    },
    {
      "cell_type": "code",
      "execution_count": null,
      "metadata": {
        "id": "TadD48BCIeRG",
        "outputId": "5d4fec7d-fb6d-442a-ef6b-8f8e726979d9"
      },
      "outputs": [
        {
          "name": "stdout",
          "output_type": "stream",
          "text": [
            "[[0.20091574 0.77096333]\n",
            " [0.52967451 0.8663984 ]\n",
            " [0.79706486 0.37735246]\n",
            " [0.09477157 0.52432236]\n",
            " [0.93014402 0.02812803]\n",
            " [0.26574515 0.25044724]]\n",
            "\n",
            "Entrenamiento\n",
            "[[0.09477157 0.52432236]\n",
            " [0.79706486 0.37735246]\n",
            " [0.26574515 0.25044724]\n",
            " [0.20091574 0.77096333]]\n",
            "\n",
            "Prueba\n",
            "[[0.52967451 0.8663984 ]\n",
            " [0.93014402 0.02812803]]\n"
          ]
        }
      ],
      "source": [
        "def subDataSet(data, n):\n",
        "    # data= Conjunto de registro\n",
        "    # porcentaje de datos para entrenamiento 0 a 1\n",
        "    M,N= data.shape\n",
        "    np.random.shuffle(data)\n",
        "    datosEntrenamiento= data[0:round(M*n)]\n",
        "    datosPrueba= data[round(M*n):]\n",
        "    \n",
        "    return datosEntrenamiento, datosPrueba\n",
        "\n",
        "#X = data.values\n",
        "X= np.random.random((6,2))\n",
        "print(X)\n",
        "print(\"\\nEntrenamiento\")\n",
        "Y,Z= subDataSet(X, 2/3)\n",
        "print(Y)\n",
        "print(\"\\nPrueba\")\n",
        "print(Z)"
      ]
    }
  ],
  "metadata": {
    "kernelspec": {
      "display_name": "Python 3",
      "language": "python",
      "name": "python3"
    },
    "language_info": {
      "codemirror_mode": {
        "name": "ipython",
        "version": 3
      },
      "file_extension": ".py",
      "mimetype": "text/x-python",
      "name": "python",
      "nbconvert_exporter": "python",
      "pygments_lexer": "ipython3",
      "version": "3.7.1"
    },
    "colab": {
      "name": "UnivariateAnalysis.ipynb",
      "provenance": [],
      "collapsed_sections": []
    }
  },
  "nbformat": 4,
  "nbformat_minor": 0
}