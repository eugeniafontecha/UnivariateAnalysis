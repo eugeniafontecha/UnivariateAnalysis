{
 "cells": [
  {
   "cell_type": "code",
   "execution_count": 2,
   "metadata": {},
   "outputs": [],
   "source": [
    "# August 2020\n",
    "\n",
    "# @Authors: eugeniafontecha, Federicodip05\n"
   ]
  },
  {
   "cell_type": "markdown",
   "metadata": {},
   "source": [
    "## Ejercicio de introducción a panda y análisis univariado\n",
    "\n",
    "**Base de datos Marambio**\n",
    "\n",
    "En el archivo marambio_2007.dat están guardadas las temperaturas pronosticadas por 5 modelos climáticos para las 12UTM en la base antártica de Marambio en un período de 2007."
   ]
  },
  {
   "cell_type": "code",
   "execution_count": 1,
   "metadata": {},
   "outputs": [],
   "source": [
    "#!pip install pandas\n",
    "#!pip install matplotlib\n",
    "#!pip install plotly\n",
    "import pandas as pd\n",
    "import numpy as np\n",
    "import matplotlib.pyplot as plt\n",
    "import plotly.graph_objects as go"
   ]
  },
  {
   "cell_type": "code",
   "execution_count": 2,
   "metadata": {},
   "outputs": [],
   "source": [
    "filename = 'marambio_2007.dat'"
   ]
  },
  {
   "cell_type": "code",
   "execution_count": 3,
   "metadata": {},
   "outputs": [],
   "source": [
    "data = pd.read_csv(filename,\n",
    "            header=0, sep='\\s+', engine='python')"
   ]
  },
  {
   "cell_type": "code",
   "execution_count": 6,
   "metadata": {},
   "outputs": [
    {
     "data": {
      "text/html": [
       "<div>\n",
       "<style scoped>\n",
       "    .dataframe tbody tr th:only-of-type {\n",
       "        vertical-align: middle;\n",
       "    }\n",
       "\n",
       "    .dataframe tbody tr th {\n",
       "        vertical-align: top;\n",
       "    }\n",
       "\n",
       "    .dataframe thead th {\n",
       "        text-align: right;\n",
       "    }\n",
       "</style>\n",
       "<table border=\"1\" class=\"dataframe\">\n",
       "  <thead>\n",
       "    <tr style=\"text-align: right;\">\n",
       "      <th></th>\n",
       "      <th>\"ukmo\"</th>\n",
       "      <th>\"cmam\"</th>\n",
       "      <th>\"gembach\"</th>\n",
       "      <th>\"ncep\"</th>\n",
       "      <th>\"ecmwf\"</th>\n",
       "    </tr>\n",
       "  </thead>\n",
       "  <tbody>\n",
       "    <tr>\n",
       "      <th>\"1001\"</th>\n",
       "      <td>191.8850</td>\n",
       "      <td>191.4259</td>\n",
       "      <td>191.5605</td>\n",
       "      <td>190.3499</td>\n",
       "      <td>192.1477</td>\n",
       "    </tr>\n",
       "    <tr>\n",
       "      <th>\"1002\"</th>\n",
       "      <td>190.5867</td>\n",
       "      <td>189.4517</td>\n",
       "      <td>190.3790</td>\n",
       "      <td>188.6695</td>\n",
       "      <td>188.3967</td>\n",
       "    </tr>\n",
       "    <tr>\n",
       "      <th>\"1003\"</th>\n",
       "      <td>190.4485</td>\n",
       "      <td>190.6399</td>\n",
       "      <td>191.0684</td>\n",
       "      <td>190.4134</td>\n",
       "      <td>189.6597</td>\n",
       "    </tr>\n",
       "    <tr>\n",
       "      <th>\"1004\"</th>\n",
       "      <td>192.5483</td>\n",
       "      <td>191.6376</td>\n",
       "      <td>192.6831</td>\n",
       "      <td>191.4446</td>\n",
       "      <td>190.7733</td>\n",
       "    </tr>\n",
       "    <tr>\n",
       "      <th>\"1005\"</th>\n",
       "      <td>193.0735</td>\n",
       "      <td>193.6450</td>\n",
       "      <td>193.9516</td>\n",
       "      <td>192.8147</td>\n",
       "      <td>192.4866</td>\n",
       "    </tr>\n",
       "  </tbody>\n",
       "</table>\n",
       "</div>"
      ],
      "text/plain": [
       "          \"ukmo\"    \"cmam\"  \"gembach\"    \"ncep\"   \"ecmwf\"\n",
       "\"1001\"  191.8850  191.4259   191.5605  190.3499  192.1477\n",
       "\"1002\"  190.5867  189.4517   190.3790  188.6695  188.3967\n",
       "\"1003\"  190.4485  190.6399   191.0684  190.4134  189.6597\n",
       "\"1004\"  192.5483  191.6376   192.6831  191.4446  190.7733\n",
       "\"1005\"  193.0735  193.6450   193.9516  192.8147  192.4866"
      ]
     },
     "execution_count": 6,
     "metadata": {},
     "output_type": "execute_result"
    }
   ],
   "source": [
    "data.head()"
   ]
  },
  {
   "cell_type": "code",
   "execution_count": 7,
   "metadata": {},
   "outputs": [
    {
     "name": "stdout",
     "output_type": "stream",
     "text": [
      "<class 'pandas.core.frame.DataFrame'>\n",
      "Index: 92 entries, \"1001\" to \"1231\"\n",
      "Data columns (total 5 columns):\n",
      " #   Column     Non-Null Count  Dtype  \n",
      "---  ------     --------------  -----  \n",
      " 0   \"ukmo\"     89 non-null     float64\n",
      " 1   \"cmam\"     92 non-null     float64\n",
      " 2   \"gembach\"  92 non-null     float64\n",
      " 3   \"ncep\"     85 non-null     float64\n",
      " 4   \"ecmwf\"    92 non-null     float64\n",
      "dtypes: float64(5)\n",
      "memory usage: 4.3+ KB\n",
      "None\n"
     ]
    }
   ],
   "source": [
    "print(data.info())"
   ]
  },
  {
   "cell_type": "code",
   "execution_count": 11,
   "metadata": {},
   "outputs": [
    {
     "name": "stdout",
     "output_type": "stream",
     "text": [
      "\"ukmo\"       3\n",
      "\"cmam\"       0\n",
      "\"gembach\"    0\n",
      "\"ncep\"       7\n",
      "\"ecmwf\"      0\n",
      "dtype: int64\n"
     ]
    }
   ],
   "source": [
    "print(data.isnull().sum())"
   ]
  },
  {
   "cell_type": "code",
   "execution_count": 13,
   "metadata": {
    "scrolled": false
   },
   "outputs": [],
   "source": [
    "data = data.fillna(data.mean().to_dict(),axis=0) #completamos datos faltantes con la media"
   ]
  },
  {
   "cell_type": "markdown",
   "metadata": {},
   "source": [
    "* Muestre el nombre de las variables"
   ]
  },
  {
   "cell_type": "code",
   "execution_count": 14,
   "metadata": {},
   "outputs": [
    {
     "name": "stdout",
     "output_type": "stream",
     "text": [
      "\"ukmo\"\n",
      "\"cmam\"\n",
      "\"gembach\"\n",
      "\"ncep\"\n",
      "\"ecmwf\"\n"
     ]
    }
   ],
   "source": [
    "for name in data.columns:\n",
    "    print(name)\n",
    "    \n"
   ]
  },
  {
   "cell_type": "markdown",
   "metadata": {},
   "source": [
    "* ¿Para qué período se registraron los pronósticos?"
   ]
  },
  {
   "cell_type": "code",
   "execution_count": 15,
   "metadata": {
    "scrolled": true
   },
   "outputs": [
    {
     "name": "stdout",
     "output_type": "stream",
     "text": [
      "\"1001\"\n",
      "\"1231\"\n"
     ]
    }
   ],
   "source": [
    "print(data.index[0])\n",
    "print(data.index[-1])"
   ]
  },
  {
   "cell_type": "markdown",
   "metadata": {},
   "source": [
    "* Calcule la temperatura promedio de ese período para cada uno de los modelos climáticos involucrados."
   ]
  },
  {
   "cell_type": "code",
   "execution_count": 16,
   "metadata": {},
   "outputs": [
    {
     "data": {
      "text/plain": [
       "\"ukmo\"       220.867209\n",
       "\"cmam\"       220.531189\n",
       "\"gembach\"    221.452630\n",
       "\"ncep\"       220.192254\n",
       "\"ecmwf\"      220.379674\n",
       "dtype: float64"
      ]
     },
     "execution_count": 16,
     "metadata": {},
     "output_type": "execute_result"
    }
   ],
   "source": [
    "data.mean(axis=0)"
   ]
  },
  {
   "cell_type": "markdown",
   "metadata": {},
   "source": [
    "* Calcular temperaturas máximas y mínimas para el modelos CMAM."
   ]
  },
  {
   "cell_type": "code",
   "execution_count": 17,
   "metadata": {},
   "outputs": [
    {
     "data": {
      "text/plain": [
       "238.2716"
      ]
     },
     "execution_count": 17,
     "metadata": {},
     "output_type": "execute_result"
    }
   ],
   "source": [
    "data.loc[:,'\"cmam\"'].max()"
   ]
  },
  {
   "cell_type": "code",
   "execution_count": 18,
   "metadata": {},
   "outputs": [
    {
     "data": {
      "text/plain": [
       "189.4517"
      ]
     },
     "execution_count": 18,
     "metadata": {},
     "output_type": "execute_result"
    }
   ],
   "source": [
    "data.loc[:,'\"cmam\"'].min()"
   ]
  }
 ],
 "metadata": {
  "kernelspec": {
   "display_name": "Python 3",
   "language": "python",
   "name": "python3"
  },
  "language_info": {
   "codemirror_mode": {
    "name": "ipython",
    "version": 3
   },
   "file_extension": ".py",
   "mimetype": "text/x-python",
   "name": "python",
   "nbconvert_exporter": "python",
   "pygments_lexer": "ipython3",
   "version": "3.7.1"
  }
 },
 "nbformat": 4,
 "nbformat_minor": 4
}
